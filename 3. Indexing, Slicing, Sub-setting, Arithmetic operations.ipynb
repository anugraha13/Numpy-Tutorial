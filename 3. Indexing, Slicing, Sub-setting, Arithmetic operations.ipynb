{
 "cells": [
  {
   "cell_type": "code",
   "execution_count": 1,
   "id": "106d3dcd",
   "metadata": {},
   "outputs": [],
   "source": [
    "heights=[10,20,30]\n",
    "weights=[51,43,56]"
   ]
  },
  {
   "cell_type": "code",
   "execution_count": 3,
   "id": "aa59c183",
   "metadata": {},
   "outputs": [],
   "source": [
    "import numpy as np\n",
    "heights=np.array(heights)\n",
    "weights=np.array(weights)"
   ]
  },
  {
   "cell_type": "code",
   "execution_count": 4,
   "id": "fede527f",
   "metadata": {},
   "outputs": [],
   "source": [
    "bmi=heights*weights"
   ]
  },
  {
   "cell_type": "code",
   "execution_count": 5,
   "id": "b4802b12",
   "metadata": {},
   "outputs": [
    {
     "data": {
      "text/plain": [
       "array([ 510,  860, 1680])"
      ]
     },
     "execution_count": 5,
     "metadata": {},
     "output_type": "execute_result"
    }
   ],
   "source": [
    "bmi"
   ]
  },
  {
   "cell_type": "code",
   "execution_count": 6,
   "id": "c5893647",
   "metadata": {},
   "outputs": [
    {
     "data": {
      "text/plain": [
       "1680"
      ]
     },
     "execution_count": 6,
     "metadata": {},
     "output_type": "execute_result"
    }
   ],
   "source": [
    "bmi[2]"
   ]
  },
  {
   "cell_type": "code",
   "execution_count": 7,
   "id": "ae98c36f",
   "metadata": {},
   "outputs": [
    {
     "data": {
      "text/plain": [
       "array([ 510,  860, 1680])"
      ]
     },
     "execution_count": 7,
     "metadata": {},
     "output_type": "execute_result"
    }
   ],
   "source": [
    "bmi[:]"
   ]
  },
  {
   "cell_type": "code",
   "execution_count": 9,
   "id": "14889f2c",
   "metadata": {},
   "outputs": [
    {
     "data": {
      "text/plain": [
       "510"
      ]
     },
     "execution_count": 9,
     "metadata": {},
     "output_type": "execute_result"
    }
   ],
   "source": [
    "bmi[-3]"
   ]
  },
  {
   "cell_type": "code",
   "execution_count": 10,
   "id": "66577e72",
   "metadata": {},
   "outputs": [
    {
     "data": {
      "text/plain": [
       "array([ 510,  860, 1680])"
      ]
     },
     "execution_count": 10,
     "metadata": {},
     "output_type": "execute_result"
    }
   ],
   "source": [
    "bmi[-3:]"
   ]
  },
  {
   "cell_type": "code",
   "execution_count": 11,
   "id": "50b963a2",
   "metadata": {},
   "outputs": [
    {
     "data": {
      "text/plain": [
       "array([False, False,  True])"
      ]
     },
     "execution_count": 11,
     "metadata": {},
     "output_type": "execute_result"
    }
   ],
   "source": [
    "bmi>1000"
   ]
  },
  {
   "cell_type": "code",
   "execution_count": 12,
   "id": "483cef86",
   "metadata": {},
   "outputs": [
    {
     "data": {
      "text/plain": [
       "array([1680])"
      ]
     },
     "execution_count": 12,
     "metadata": {},
     "output_type": "execute_result"
    }
   ],
   "source": [
    "bmi[bmi>1000]"
   ]
  },
  {
   "cell_type": "code",
   "execution_count": 13,
   "id": "8abff419",
   "metadata": {},
   "outputs": [
    {
     "data": {
      "text/plain": [
       "1680"
      ]
     },
     "execution_count": 13,
     "metadata": {},
     "output_type": "execute_result"
    }
   ],
   "source": [
    "bmi.max()"
   ]
  },
  {
   "cell_type": "code",
   "execution_count": 14,
   "id": "1992f4cc",
   "metadata": {},
   "outputs": [
    {
     "data": {
      "text/plain": [
       "510"
      ]
     },
     "execution_count": 14,
     "metadata": {},
     "output_type": "execute_result"
    }
   ],
   "source": [
    "bmi.min()"
   ]
  },
  {
   "cell_type": "code",
   "execution_count": 15,
   "id": "0a2fd9ed",
   "metadata": {},
   "outputs": [
    {
     "data": {
      "text/plain": [
       "1016.6666666666666"
      ]
     },
     "execution_count": 15,
     "metadata": {},
     "output_type": "execute_result"
    }
   ],
   "source": [
    "bmi.mean()"
   ]
  }
 ],
 "metadata": {
  "kernelspec": {
   "display_name": "Python 3 (ipykernel)",
   "language": "python",
   "name": "python3"
  },
  "language_info": {
   "codemirror_mode": {
    "name": "ipython",
    "version": 3
   },
   "file_extension": ".py",
   "mimetype": "text/x-python",
   "name": "python",
   "nbconvert_exporter": "python",
   "pygments_lexer": "ipython3",
   "version": "3.9.7"
  }
 },
 "nbformat": 4,
 "nbformat_minor": 5
}
