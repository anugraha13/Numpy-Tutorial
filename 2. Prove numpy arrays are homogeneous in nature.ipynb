{
 "cells": [
  {
   "cell_type": "markdown",
   "id": "356096cc",
   "metadata": {},
   "source": [
    "# Why numpy arrays are homogeneous in nature ??"
   ]
  },
  {
   "cell_type": "code",
   "execution_count": 9,
   "id": "caac1041",
   "metadata": {},
   "outputs": [],
   "source": [
    "np_arr=np.array([1,2,3]) # it holds the data with same datatype"
   ]
  },
  {
   "cell_type": "code",
   "execution_count": 10,
   "id": "50e7db8d",
   "metadata": {},
   "outputs": [
    {
     "data": {
      "text/plain": [
       "array([1, 2, 3])"
      ]
     },
     "execution_count": 10,
     "metadata": {},
     "output_type": "execute_result"
    }
   ],
   "source": [
    "np_arr"
   ]
  },
  {
   "cell_type": "code",
   "execution_count": 13,
   "id": "d6368153",
   "metadata": {},
   "outputs": [],
   "source": [
    "np_arr1=np.array([1,\"apple\",True])"
   ]
  },
  {
   "cell_type": "code",
   "execution_count": 14,
   "id": "5a9b0f23",
   "metadata": {},
   "outputs": [
    {
     "data": {
      "text/plain": [
       "array(['1', 'apple', 'True'], dtype='<U11')"
      ]
     },
     "execution_count": 14,
     "metadata": {},
     "output_type": "execute_result"
    }
   ],
   "source": [
    "np_arr1 # automatically converts all the values into strings."
   ]
  },
  {
   "cell_type": "code",
   "execution_count": 21,
   "id": "9ccce584",
   "metadata": {},
   "outputs": [
    {
     "data": {
      "text/plain": [
       "dtype('<U11')"
      ]
     },
     "execution_count": 21,
     "metadata": {},
     "output_type": "execute_result"
    }
   ],
   "source": [
    "np_arr1.dtype"
   ]
  },
  {
   "cell_type": "code",
   "execution_count": 16,
   "id": "580b84bf",
   "metadata": {},
   "outputs": [],
   "source": [
    "np.arr2=np.array([1.0,2,3.5,0.2,True])"
   ]
  },
  {
   "cell_type": "code",
   "execution_count": 17,
   "id": "524ec505",
   "metadata": {},
   "outputs": [
    {
     "data": {
      "text/plain": [
       "array([1. , 2. , 3.5, 0.2, 1. ])"
      ]
     },
     "execution_count": 17,
     "metadata": {},
     "output_type": "execute_result"
    }
   ],
   "source": [
    "np.arr2"
   ]
  },
  {
   "cell_type": "code",
   "execution_count": 20,
   "id": "5ecbace8",
   "metadata": {},
   "outputs": [
    {
     "data": {
      "text/plain": [
       "dtype('float64')"
      ]
     },
     "execution_count": 20,
     "metadata": {},
     "output_type": "execute_result"
    }
   ],
   "source": [
    "np.arr2.dtype"
   ]
  }
 ],
 "metadata": {
  "kernelspec": {
   "display_name": "Python 3 (ipykernel)",
   "language": "python",
   "name": "python3"
  },
  "language_info": {
   "codemirror_mode": {
    "name": "ipython",
    "version": 3
   },
   "file_extension": ".py",
   "mimetype": "text/x-python",
   "name": "python",
   "nbconvert_exporter": "python",
   "pygments_lexer": "ipython3",
   "version": "3.9.7"
  }
 },
 "nbformat": 4,
 "nbformat_minor": 5
}
