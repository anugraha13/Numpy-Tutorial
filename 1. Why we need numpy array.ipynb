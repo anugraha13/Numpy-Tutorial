{
 "cells": [
  {
   "cell_type": "markdown",
   "id": "7482555b",
   "metadata": {},
   "source": [
    "# In the case of list is performing all the actions, whey we need numpy array ?\n"
   ]
  },
  {
   "cell_type": "code",
   "execution_count": 1,
   "id": "03f84df2",
   "metadata": {},
   "outputs": [],
   "source": [
    "# here is the justification\n",
    "\n",
    "list1=[10,20,30,40,50]\n"
   ]
  },
  {
   "cell_type": "code",
   "execution_count": 2,
   "id": "4d961497",
   "metadata": {},
   "outputs": [
    {
     "data": {
      "text/plain": [
       "[10, 20, 30, 40, 50, 10, 20, 30, 40, 50]"
      ]
     },
     "execution_count": 2,
     "metadata": {},
     "output_type": "execute_result"
    }
   ],
   "source": [
    "# if i am going to operate over the entire list, It displays the list twice.\n",
    "\n",
    "list1*2"
   ]
  },
  {
   "cell_type": "code",
   "execution_count": 4,
   "id": "f4517dfa",
   "metadata": {},
   "outputs": [],
   "source": [
    "# while I am performing the same in numpy array\n",
    "\n",
    "import numpy as np\n",
    "np_list=np.array(list1)"
   ]
  },
  {
   "cell_type": "code",
   "execution_count": 5,
   "id": "e876122f",
   "metadata": {},
   "outputs": [
    {
     "data": {
      "text/plain": [
       "array([ 20,  40,  60,  80, 100])"
      ]
     },
     "execution_count": 5,
     "metadata": {},
     "output_type": "execute_result"
    }
   ],
   "source": [
    "np_list*2  # this can quickly performs the mathematical operations over the entire data.\n",
    "\n",
    "# we will require the for loop, lambda function or list comprehension to perform this action"
   ]
  },
  {
   "cell_type": "code",
   "execution_count": 6,
   "id": "ed198594",
   "metadata": {},
   "outputs": [
    {
     "name": "stdout",
     "output_type": "stream",
     "text": [
      "[10, 20, 30, 40, 50]\n"
     ]
    }
   ],
   "source": [
    "print(list1)"
   ]
  },
  {
   "cell_type": "code",
   "execution_count": 7,
   "id": "95bb2823",
   "metadata": {},
   "outputs": [
    {
     "name": "stdout",
     "output_type": "stream",
     "text": [
      "[10 20 30 40 50]\n"
     ]
    }
   ],
   "source": [
    "print(np_list) # display format - space between the entries not comma"
   ]
  }
 ],
 "metadata": {
  "kernelspec": {
   "display_name": "Python 3 (ipykernel)",
   "language": "python",
   "name": "python3"
  },
  "language_info": {
   "codemirror_mode": {
    "name": "ipython",
    "version": 3
   },
   "file_extension": ".py",
   "mimetype": "text/x-python",
   "name": "python",
   "nbconvert_exporter": "python",
   "pygments_lexer": "ipython3",
   "version": "3.9.7"
  }
 },
 "nbformat": 4,
 "nbformat_minor": 5
}
